{
 "cells": [
  {
   "cell_type": "code",
   "execution_count": 1,
   "metadata": {
    "collapsed": true
   },
   "outputs": [],
   "source": [
    "from contextlib import contextmanager\n",
    "\n",
    "from sqlalchemy import create_engine, Column, Integer, String\n",
    "from sqlalchemy.ext.declarative import declarative_base, declared_attr\n",
    "from sqlalchemy.orm import sessionmaker\n"
   ]
  },
  {
   "cell_type": "code",
   "execution_count": 2,
   "metadata": {
    "collapsed": true
   },
   "outputs": [],
   "source": [
    "engine = create_engine('sqlite:///:memory:', echo=True)"
   ]
  },
  {
   "cell_type": "code",
   "execution_count": 3,
   "metadata": {
    "collapsed": true
   },
   "outputs": [],
   "source": [
    "Base = declarative_base()"
   ]
  },
  {
   "cell_type": "code",
   "execution_count": 4,
   "metadata": {
    "collapsed": false
   },
   "outputs": [],
   "source": [
    "class ModelBase:\n",
    "    \n",
    "    @declared_attr\n",
    "    def __tablename__(cls):\n",
    "        return cls.__name__.lower()\n",
    "\n",
    "    id =  Column(Integer, primary_key=True)\n",
    "    \n",
    "    def __init__(self):\n",
    "        self.Session = sessionmaker(bind=engine)\n",
    "        self.session = None\n",
    "        \n",
    "    @contextmanager\n",
    "    def session_scope(self):\n",
    "        \"\"\" Provide a transactional scope around a series of operations.\n",
    "        \"\"\"\n",
    "        self.session = self.Session()\n",
    "        try:\n",
    "            yield self.session\n",
    "            self.session.commit()\n",
    "        except:\n",
    "            self.session.rollback()\n",
    "            raise\n",
    "        finally:\n",
    "            self.session.close()\n",
    "            \n",
    "    def save(self):\n",
    "        with self.session_scope() as session:\n",
    "            session.add(self)"
   ]
  },
  {
   "cell_type": "code",
   "execution_count": 5,
   "metadata": {
    "collapsed": false
   },
   "outputs": [],
   "source": [
    "class User(ModelBase, Base):\n",
    "    name = Column(String)\n",
    "    fullname = Column(String)\n",
    "    password = Column(String)\n",
    "    \n",
    "    def __init__(self, name, fullname, password):\n",
    "        super().__init__()            \n",
    "        self.name = name\n",
    "        self.fullname = fullname\n",
    "        self.password = password"
   ]
  },
  {
   "cell_type": "code",
   "execution_count": 6,
   "metadata": {
    "collapsed": false
   },
   "outputs": [
    {
     "name": "stdout",
     "output_type": "stream",
     "text": [
      "2016-09-25 16:11:11,529 INFO sqlalchemy.engine.base.Engine SELECT CAST('test plain returns' AS VARCHAR(60)) AS anon_1\n",
      "2016-09-25 16:11:11,530 INFO sqlalchemy.engine.base.Engine ()\n",
      "2016-09-25 16:11:11,531 INFO sqlalchemy.engine.base.Engine SELECT CAST('test unicode returns' AS VARCHAR(60)) AS anon_1\n",
      "2016-09-25 16:11:11,531 INFO sqlalchemy.engine.base.Engine ()\n",
      "2016-09-25 16:11:11,532 INFO sqlalchemy.engine.base.Engine PRAGMA table_info(\"user\")\n",
      "2016-09-25 16:11:11,533 INFO sqlalchemy.engine.base.Engine ()\n",
      "2016-09-25 16:11:11,534 INFO sqlalchemy.engine.base.Engine \n",
      "CREATE TABLE user (\n",
      "\tid INTEGER NOT NULL, \n",
      "\tname VARCHAR, \n",
      "\tfullname VARCHAR, \n",
      "\tpassword VARCHAR, \n",
      "\tPRIMARY KEY (id)\n",
      ")\n",
      "\n",
      "\n",
      "2016-09-25 16:11:11,534 INFO sqlalchemy.engine.base.Engine ()\n",
      "2016-09-25 16:11:11,535 INFO sqlalchemy.engine.base.Engine COMMIT\n"
     ]
    }
   ],
   "source": [
    "Base.metadata.create_all(engine)"
   ]
  },
  {
   "cell_type": "code",
   "execution_count": 7,
   "metadata": {
    "collapsed": false
   },
   "outputs": [
    {
     "name": "stdout",
     "output_type": "stream",
     "text": [
      "sessionmaker(class_='Session',autoflush=True, bind=Engine(sqlite:///:memory:), expire_on_commit=True, autocommit=False)\n",
      "None\n"
     ]
    }
   ],
   "source": [
    "user = User(name='Jason', fullname='Jason Myers', password='cookies')"
   ]
  },
  {
   "cell_type": "code",
   "execution_count": 8,
   "metadata": {
    "collapsed": false
   },
   "outputs": [
    {
     "name": "stdout",
     "output_type": "stream",
     "text": [
      "2016-09-25 16:11:11,543 INFO sqlalchemy.engine.base.Engine BEGIN (implicit)\n",
      "2016-09-25 16:11:11,544 INFO sqlalchemy.engine.base.Engine INSERT INTO user (name, fullname, password) VALUES (?, ?, ?)\n",
      "2016-09-25 16:11:11,544 INFO sqlalchemy.engine.base.Engine ('Jason', 'Jason Myers', 'cookies')\n",
      "2016-09-25 16:11:11,545 INFO sqlalchemy.engine.base.Engine COMMIT\n"
     ]
    }
   ],
   "source": [
    "user.save()"
   ]
  }
 ],
 "metadata": {
  "kernelspec": {
   "display_name": "Python 3",
   "language": "python",
   "name": "python3"
  },
  "language_info": {
   "codemirror_mode": {
    "name": "ipython",
    "version": 3
   },
   "file_extension": ".py",
   "mimetype": "text/x-python",
   "name": "python",
   "nbconvert_exporter": "python",
   "pygments_lexer": "ipython3",
   "version": "3.5.2"
  }
 },
 "nbformat": 4,
 "nbformat_minor": 1
}
